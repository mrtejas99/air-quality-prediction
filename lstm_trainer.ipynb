{
 "cells": [
  {
   "cell_type": "code",
   "execution_count": 1,
   "metadata": {},
   "outputs": [],
   "source": [
    "import pandas as pd\n",
    "import numpy as np\n",
    "import plotly.express as px\n",
    "import pandas as pd\n",
    "import numpy as np"
   ]
  },
  {
   "cell_type": "code",
   "execution_count": 2,
   "metadata": {},
   "outputs": [
    {
     "name": "stderr",
     "output_type": "stream",
     "text": [
      "C:\\Users\\Tejas\\AppData\\Local\\Temp\\ipykernel_8344\\1516330197.py:14: DeprecationWarning: `import kerastuner` is deprecated, please use `import keras_tuner`.\n",
      "  from kerastuner.tuners import RandomSearch\n"
     ]
    }
   ],
   "source": [
    "\n",
    "from sklearn.model_selection import train_test_split\n",
    "from sklearn import metrics\n",
    "from sklearn import preprocessing\n",
    "from sklearn.metrics import accuracy_score\n",
    "from sklearn.preprocessing import StandardScaler\n",
    "from tensorflow import keras\n",
    "from numpy import array\n",
    "from keras.models import Sequential\n",
    "from keras.layers import LSTM\n",
    "from keras.layers import Dense\n",
    "from keras.layers import Dropout\n",
    "from keras import optimizers\n",
    "from sklearn.preprocessing import MinMaxScaler\n",
    "from kerastuner.tuners import RandomSearch\n",
    "from kerastuner.engine.hyperparameters import HyperParameters\n",
    "\n",
    "from sklearn.metrics import mean_squared_error"
   ]
  },
  {
   "cell_type": "code",
   "execution_count": 4,
   "metadata": {},
   "outputs": [],
   "source": [
    "def create_dataset(dataset, look_back=1):\n",
    "\tdataX, dataY = [], []\n",
    "\tfor i in range(len(dataset)-look_back-1):\n",
    "\t\ta = dataset[i:(i+look_back), 0]\n",
    "\t\tdataX.append(a)\n",
    "\t\tdataY.append(dataset[i + look_back, 0])\n",
    "\treturn np.array(dataX), np.array(dataY)"
   ]
  },
  {
   "cell_type": "code",
   "execution_count": 5,
   "metadata": {},
   "outputs": [],
   "source": [
    "import tensorflow as tf\n",
    "tf.random.set_seed(7)"
   ]
  },
  {
   "cell_type": "code",
   "execution_count": 6,
   "metadata": {},
   "outputs": [],
   "source": [
    "dataframe = pd.read_csv('clean_data.csv', usecols=[5], engine='python')\n",
    "dataset = dataframe.values\n",
    "dataset = dataset.astype('float32')"
   ]
  },
  {
   "cell_type": "code",
   "execution_count": 7,
   "metadata": {},
   "outputs": [],
   "source": [
    "scaler = MinMaxScaler(feature_range=(0, 1))\n",
    "dataset = scaler.fit_transform(dataset)"
   ]
  },
  {
   "cell_type": "code",
   "execution_count": 8,
   "metadata": {},
   "outputs": [],
   "source": [
    "train_size = int(len(dataset) * 0.8)\n",
    "test_size = len(dataset) - train_size\n",
    "train, test = dataset[0:train_size,:], dataset[train_size:len(dataset),:]"
   ]
  },
  {
   "cell_type": "code",
   "execution_count": 9,
   "metadata": {},
   "outputs": [],
   "source": [
    "look_back = 10\n",
    "trainX, trainY = create_dataset(train, look_back)\n",
    "testX, testY = create_dataset(test, look_back)"
   ]
  },
  {
   "cell_type": "code",
   "execution_count": 10,
   "metadata": {},
   "outputs": [],
   "source": [
    "trainX = np.reshape(trainX, (trainX.shape[0], 1, trainX.shape[1]))\n",
    "testX = np.reshape(testX, (testX.shape[0], 1, testX.shape[1]))"
   ]
  },
  {
   "cell_type": "code",
   "execution_count": 11,
   "metadata": {},
   "outputs": [],
   "source": [
    "\n",
    "def build_model(hp):\n",
    "    model = Sequential()\n",
    "    model.add(LSTM(hp.Int('input_unit',min_value=32,max_value=512,step=32), return_sequences=True, input_shape=(1, look_back)))\n",
    "    for i in range(hp.Int('n_layers', 1, 10)):\n",
    "        model.add(LSTM(hp.Int(f'lstm_{i}_units',min_value=32,max_value=512,step=32),return_sequences=True))\n",
    "    model.add(LSTM(hp.Int('layer_2_neurons',min_value=32,max_value=512,step=32)))\n",
    "    model.add(Dense(1, activation=hp.Choice('dense_activation',values=['relu', 'sigmoid', 'softmax', 'softplus', 'softsign', 'tanh', 'selu', 'elu', 'exponential'],default='softmax')))\n",
    "    \n",
    "    model.compile(loss='mean_squared_error', optimizer=hp.Choice('optimizers',values=['sgd', 'rmsprop', 'adam', 'adadelta', 'adagrad', 'adamax', 'nadam', 'frtl'],default='sgd'))\n",
    "    return model\n",
    "    #10 LSTM layers and one dense layers"
   ]
  },
  {
   "cell_type": "code",
   "execution_count": 13,
   "metadata": {},
   "outputs": [],
   "source": [
    "from kerastuner.tuners import RandomSearch\n",
    "\n",
    "tuner= RandomSearch(\n",
    "        build_model,\n",
    "        objective='val_loss',\n",
    "        max_trials=20,\n",
    "        overwrite=True,\n",
    "        executions_per_trial=2,\n",
    "        directory='lstm_27102022'\n",
    "    )"
   ]
  },
  {
   "cell_type": "code",
   "execution_count": 17,
   "metadata": {},
   "outputs": [
    {
     "name": "stdout",
     "output_type": "stream",
     "text": [
      "\n",
      "Search: Running Trial #1\n",
      "\n",
      "Value             |Best Value So Far |Hyperparameter\n",
      "384               |?                 |input_unit\n",
      "4                 |?                 |n_layers\n",
      "64                |?                 |lstm_0_units\n",
      "384               |?                 |layer_2_neurons\n",
      "sigmoid           |?                 |dense_activation\n",
      "adagrad           |?                 |optimizers\n",
      "32                |?                 |lstm_1_units\n",
      "32                |?                 |lstm_2_units\n",
      "32                |?                 |lstm_3_units\n",
      "\n",
      "Epoch 1/100\n",
      "6/9 [===================>..........] - ETA: 0s - loss: 0.1016 WARNING:tensorflow:Callback method `on_train_batch_end` is slow compared to the batch time (batch time: 0.0274s vs `on_train_batch_end` time: 0.0730s). Check your callbacks.\n",
      "9/9 [==============================] - 16s 290ms/step - loss: 0.1019 - val_loss: 0.1208\n",
      "Epoch 2/100\n",
      "9/9 [==============================] - 0s 51ms/step - loss: 0.1014 - val_loss: 0.1204\n",
      "Epoch 3/100\n",
      "9/9 [==============================] - 1s 64ms/step - loss: 0.1010 - val_loss: 0.1200\n",
      "Epoch 4/100\n",
      "9/9 [==============================] - 1s 56ms/step - loss: 0.1007 - val_loss: 0.1197\n",
      "Epoch 5/100\n",
      "9/9 [==============================] - 1s 57ms/step - loss: 0.1004 - val_loss: 0.1194\n",
      "Epoch 6/100\n",
      "9/9 [==============================] - 0s 54ms/step - loss: 0.1002 - val_loss: 0.1191\n",
      "Epoch 7/100\n",
      "9/9 [==============================] - 1s 55ms/step - loss: 0.0999 - val_loss: 0.1188\n",
      "Epoch 8/100\n",
      "9/9 [==============================] - 1s 68ms/step - loss: 0.0997 - val_loss: 0.1186\n",
      "Epoch 9/100\n",
      "9/9 [==============================] - 1s 58ms/step - loss: 0.0995 - val_loss: 0.1183\n",
      "Epoch 10/100\n",
      "9/9 [==============================] - 1s 63ms/step - loss: 0.0993 - val_loss: 0.1181\n",
      "Epoch 11/100\n",
      "9/9 [==============================] - 1s 64ms/step - loss: 0.0991 - val_loss: 0.1178\n",
      "Epoch 12/100\n",
      "9/9 [==============================] - 0s 55ms/step - loss: 0.0989 - val_loss: 0.1176\n",
      "Epoch 13/100\n",
      "9/9 [==============================] - 0s 54ms/step - loss: 0.0987 - val_loss: 0.1174\n",
      "Epoch 14/100\n",
      "9/9 [==============================] - 1s 60ms/step - loss: 0.0985 - val_loss: 0.1172\n",
      "Epoch 15/100\n",
      "9/9 [==============================] - 0s 54ms/step - loss: 0.0983 - val_loss: 0.1170\n",
      "Epoch 16/100\n",
      "9/9 [==============================] - 1s 76ms/step - loss: 0.0981 - val_loss: 0.1168\n",
      "Epoch 17/100\n",
      "9/9 [==============================] - 1s 80ms/step - loss: 0.0979 - val_loss: 0.1166\n",
      "Epoch 18/100\n",
      "9/9 [==============================] - 1s 67ms/step - loss: 0.0977 - val_loss: 0.1164\n",
      "Epoch 19/100\n",
      "9/9 [==============================] - 1s 58ms/step - loss: 0.0976 - val_loss: 0.1162\n",
      "Epoch 20/100\n",
      "9/9 [==============================] - 1s 68ms/step - loss: 0.0974 - val_loss: 0.1160\n",
      "Epoch 21/100\n",
      "9/9 [==============================] - 1s 75ms/step - loss: 0.0972 - val_loss: 0.1158\n",
      "Epoch 22/100\n",
      "9/9 [==============================] - 1s 74ms/step - loss: 0.0971 - val_loss: 0.1156\n",
      "Epoch 23/100\n",
      "9/9 [==============================] - 1s 75ms/step - loss: 0.0969 - val_loss: 0.1155\n",
      "Epoch 24/100\n",
      "9/9 [==============================] - 1s 82ms/step - loss: 0.0967 - val_loss: 0.1153\n",
      "Epoch 25/100\n",
      "9/9 [==============================] - 0s 53ms/step - loss: 0.0966 - val_loss: 0.1151\n",
      "Epoch 26/100\n",
      "9/9 [==============================] - 1s 71ms/step - loss: 0.0964 - val_loss: 0.1149\n",
      "Epoch 27/100\n",
      "9/9 [==============================] - 0s 53ms/step - loss: 0.0963 - val_loss: 0.1148\n",
      "Epoch 28/100\n",
      "9/9 [==============================] - 1s 65ms/step - loss: 0.0961 - val_loss: 0.1146\n",
      "Epoch 29/100\n",
      "9/9 [==============================] - 0s 53ms/step - loss: 0.0960 - val_loss: 0.1144\n",
      "Epoch 30/100\n",
      "9/9 [==============================] - 0s 54ms/step - loss: 0.0958 - val_loss: 0.1143\n",
      "Epoch 31/100\n",
      "9/9 [==============================] - 0s 53ms/step - loss: 0.0957 - val_loss: 0.1141\n",
      "Epoch 32/100\n",
      "9/9 [==============================] - 1s 98ms/step - loss: 0.0955 - val_loss: 0.1139\n",
      "Epoch 33/100\n",
      "9/9 [==============================] - 0s 54ms/step - loss: 0.0954 - val_loss: 0.1138\n",
      "Epoch 34/100\n",
      "9/9 [==============================] - 0s 55ms/step - loss: 0.0952 - val_loss: 0.1136\n",
      "Epoch 35/100\n",
      "9/9 [==============================] - 0s 56ms/step - loss: 0.0951 - val_loss: 0.1135\n",
      "Epoch 36/100\n"
     ]
    },
    {
     "ename": "KeyboardInterrupt",
     "evalue": "",
     "output_type": "error",
     "traceback": [
      "\u001b[1;31m---------------------------------------------------------------------------\u001b[0m",
      "\u001b[1;31mKeyboardInterrupt\u001b[0m                         Traceback (most recent call last)",
      "\u001b[1;32mc:\\Users\\Tejas\\Downloads\\air-quality-prediction\\lstm_trainer.ipynb Cell 12'\u001b[0m in \u001b[0;36m<cell line: 4>\u001b[1;34m()\u001b[0m\n\u001b[0;32m      <a href='vscode-notebook-cell:/c%3A/Users/Tejas/Downloads/air-quality-prediction/lstm_trainer.ipynb#ch0000012?line=0'>1</a>\u001b[0m tboard \u001b[39m=\u001b[39m tf\u001b[39m.\u001b[39mkeras\u001b[39m.\u001b[39mcallbacks\u001b[39m.\u001b[39mTensorBoard(log_dir\u001b[39m=\u001b[39m\u001b[39m'\u001b[39m\u001b[39mlogs\u001b[39m\u001b[39m'\u001b[39m, write_graph\u001b[39m=\u001b[39m\u001b[39mTrue\u001b[39;00m)\n\u001b[0;32m      <a href='vscode-notebook-cell:/c%3A/Users/Tejas/Downloads/air-quality-prediction/lstm_trainer.ipynb#ch0000012?line=1'>2</a>\u001b[0m stop_early \u001b[39m=\u001b[39m tf\u001b[39m.\u001b[39mkeras\u001b[39m.\u001b[39mcallbacks\u001b[39m.\u001b[39mEarlyStopping(monitor\u001b[39m=\u001b[39m\u001b[39m'\u001b[39m\u001b[39mval_loss\u001b[39m\u001b[39m'\u001b[39m, patience\u001b[39m=\u001b[39m\u001b[39m5\u001b[39m)\n\u001b[1;32m----> <a href='vscode-notebook-cell:/c%3A/Users/Tejas/Downloads/air-quality-prediction/lstm_trainer.ipynb#ch0000012?line=3'>4</a>\u001b[0m tuner\u001b[39m.\u001b[39;49msearch(\n\u001b[0;32m      <a href='vscode-notebook-cell:/c%3A/Users/Tejas/Downloads/air-quality-prediction/lstm_trainer.ipynb#ch0000012?line=4'>5</a>\u001b[0m         x\u001b[39m=\u001b[39;49mtrainX,\n\u001b[0;32m      <a href='vscode-notebook-cell:/c%3A/Users/Tejas/Downloads/air-quality-prediction/lstm_trainer.ipynb#ch0000012?line=5'>6</a>\u001b[0m         y\u001b[39m=\u001b[39;49mtrainY,\n\u001b[0;32m      <a href='vscode-notebook-cell:/c%3A/Users/Tejas/Downloads/air-quality-prediction/lstm_trainer.ipynb#ch0000012?line=6'>7</a>\u001b[0m         epochs\u001b[39m=\u001b[39;49m\u001b[39m100\u001b[39;49m,\n\u001b[0;32m      <a href='vscode-notebook-cell:/c%3A/Users/Tejas/Downloads/air-quality-prediction/lstm_trainer.ipynb#ch0000012?line=7'>8</a>\u001b[0m         batch_size\u001b[39m=\u001b[39;49m\u001b[39m128\u001b[39;49m,\n\u001b[0;32m      <a href='vscode-notebook-cell:/c%3A/Users/Tejas/Downloads/air-quality-prediction/lstm_trainer.ipynb#ch0000012?line=8'>9</a>\u001b[0m         validation_data\u001b[39m=\u001b[39;49m(testX,testY),\n\u001b[0;32m     <a href='vscode-notebook-cell:/c%3A/Users/Tejas/Downloads/air-quality-prediction/lstm_trainer.ipynb#ch0000012?line=9'>10</a>\u001b[0m         callbacks\u001b[39m=\u001b[39;49m[tboard, stop_early]\n\u001b[0;32m     <a href='vscode-notebook-cell:/c%3A/Users/Tejas/Downloads/air-quality-prediction/lstm_trainer.ipynb#ch0000012?line=10'>11</a>\u001b[0m )\n",
      "File \u001b[1;32m~\\AppData\\Local\\Programs\\Python\\Python39\\lib\\site-packages\\keras_tuner\\engine\\base_tuner.py:183\u001b[0m, in \u001b[0;36mBaseTuner.search\u001b[1;34m(self, *fit_args, **fit_kwargs)\u001b[0m\n\u001b[0;32m    <a href='file:///c%3A/Users/Tejas/AppData/Local/Programs/Python/Python39/lib/site-packages/keras_tuner/engine/base_tuner.py?line=179'>180</a>\u001b[0m     \u001b[39mcontinue\u001b[39;00m\n\u001b[0;32m    <a href='file:///c%3A/Users/Tejas/AppData/Local/Programs/Python/Python39/lib/site-packages/keras_tuner/engine/base_tuner.py?line=181'>182</a>\u001b[0m \u001b[39mself\u001b[39m\u001b[39m.\u001b[39mon_trial_begin(trial)\n\u001b[1;32m--> <a href='file:///c%3A/Users/Tejas/AppData/Local/Programs/Python/Python39/lib/site-packages/keras_tuner/engine/base_tuner.py?line=182'>183</a>\u001b[0m results \u001b[39m=\u001b[39m \u001b[39mself\u001b[39m\u001b[39m.\u001b[39mrun_trial(trial, \u001b[39m*\u001b[39mfit_args, \u001b[39m*\u001b[39m\u001b[39m*\u001b[39mfit_kwargs)\n\u001b[0;32m    <a href='file:///c%3A/Users/Tejas/AppData/Local/Programs/Python/Python39/lib/site-packages/keras_tuner/engine/base_tuner.py?line=183'>184</a>\u001b[0m \u001b[39m# `results` is None indicates user updated oracle in `run_trial()`.\u001b[39;00m\n\u001b[0;32m    <a href='file:///c%3A/Users/Tejas/AppData/Local/Programs/Python/Python39/lib/site-packages/keras_tuner/engine/base_tuner.py?line=184'>185</a>\u001b[0m \u001b[39mif\u001b[39;00m results \u001b[39mis\u001b[39;00m \u001b[39mNone\u001b[39;00m:\n",
      "File \u001b[1;32m~\\AppData\\Local\\Programs\\Python\\Python39\\lib\\site-packages\\keras_tuner\\engine\\tuner.py:295\u001b[0m, in \u001b[0;36mTuner.run_trial\u001b[1;34m(self, trial, *args, **kwargs)\u001b[0m\n\u001b[0;32m    <a href='file:///c%3A/Users/Tejas/AppData/Local/Programs/Python/Python39/lib/site-packages/keras_tuner/engine/tuner.py?line=292'>293</a>\u001b[0m     callbacks\u001b[39m.\u001b[39mappend(model_checkpoint)\n\u001b[0;32m    <a href='file:///c%3A/Users/Tejas/AppData/Local/Programs/Python/Python39/lib/site-packages/keras_tuner/engine/tuner.py?line=293'>294</a>\u001b[0m     copied_kwargs[\u001b[39m\"\u001b[39m\u001b[39mcallbacks\u001b[39m\u001b[39m\"\u001b[39m] \u001b[39m=\u001b[39m callbacks\n\u001b[1;32m--> <a href='file:///c%3A/Users/Tejas/AppData/Local/Programs/Python/Python39/lib/site-packages/keras_tuner/engine/tuner.py?line=294'>295</a>\u001b[0m     obj_value \u001b[39m=\u001b[39m \u001b[39mself\u001b[39m\u001b[39m.\u001b[39m_build_and_fit_model(trial, \u001b[39m*\u001b[39margs, \u001b[39m*\u001b[39m\u001b[39m*\u001b[39mcopied_kwargs)\n\u001b[0;32m    <a href='file:///c%3A/Users/Tejas/AppData/Local/Programs/Python/Python39/lib/site-packages/keras_tuner/engine/tuner.py?line=296'>297</a>\u001b[0m     histories\u001b[39m.\u001b[39mappend(obj_value)\n\u001b[0;32m    <a href='file:///c%3A/Users/Tejas/AppData/Local/Programs/Python/Python39/lib/site-packages/keras_tuner/engine/tuner.py?line=297'>298</a>\u001b[0m \u001b[39mreturn\u001b[39;00m histories\n",
      "File \u001b[1;32m~\\AppData\\Local\\Programs\\Python\\Python39\\lib\\site-packages\\keras_tuner\\engine\\tuner.py:222\u001b[0m, in \u001b[0;36mTuner._build_and_fit_model\u001b[1;34m(self, trial, *args, **kwargs)\u001b[0m\n\u001b[0;32m    <a href='file:///c%3A/Users/Tejas/AppData/Local/Programs/Python/Python39/lib/site-packages/keras_tuner/engine/tuner.py?line=219'>220</a>\u001b[0m hp \u001b[39m=\u001b[39m trial\u001b[39m.\u001b[39mhyperparameters\n\u001b[0;32m    <a href='file:///c%3A/Users/Tejas/AppData/Local/Programs/Python/Python39/lib/site-packages/keras_tuner/engine/tuner.py?line=220'>221</a>\u001b[0m model \u001b[39m=\u001b[39m \u001b[39mself\u001b[39m\u001b[39m.\u001b[39m_try_build(hp)\n\u001b[1;32m--> <a href='file:///c%3A/Users/Tejas/AppData/Local/Programs/Python/Python39/lib/site-packages/keras_tuner/engine/tuner.py?line=221'>222</a>\u001b[0m results \u001b[39m=\u001b[39m \u001b[39mself\u001b[39m\u001b[39m.\u001b[39mhypermodel\u001b[39m.\u001b[39mfit(hp, model, \u001b[39m*\u001b[39margs, \u001b[39m*\u001b[39m\u001b[39m*\u001b[39mkwargs)\n\u001b[0;32m    <a href='file:///c%3A/Users/Tejas/AppData/Local/Programs/Python/Python39/lib/site-packages/keras_tuner/engine/tuner.py?line=222'>223</a>\u001b[0m tuner_utils\u001b[39m.\u001b[39mvalidate_trial_results(\n\u001b[0;32m    <a href='file:///c%3A/Users/Tejas/AppData/Local/Programs/Python/Python39/lib/site-packages/keras_tuner/engine/tuner.py?line=223'>224</a>\u001b[0m     results, \u001b[39mself\u001b[39m\u001b[39m.\u001b[39moracle\u001b[39m.\u001b[39mobjective, \u001b[39m\"\u001b[39m\u001b[39mHyperModel.fit()\u001b[39m\u001b[39m\"\u001b[39m\n\u001b[0;32m    <a href='file:///c%3A/Users/Tejas/AppData/Local/Programs/Python/Python39/lib/site-packages/keras_tuner/engine/tuner.py?line=224'>225</a>\u001b[0m )\n\u001b[0;32m    <a href='file:///c%3A/Users/Tejas/AppData/Local/Programs/Python/Python39/lib/site-packages/keras_tuner/engine/tuner.py?line=225'>226</a>\u001b[0m \u001b[39mreturn\u001b[39;00m results\n",
      "File \u001b[1;32m~\\AppData\\Local\\Programs\\Python\\Python39\\lib\\site-packages\\keras_tuner\\engine\\hypermodel.py:140\u001b[0m, in \u001b[0;36mHyperModel.fit\u001b[1;34m(self, hp, model, *args, **kwargs)\u001b[0m\n\u001b[0;32m    <a href='file:///c%3A/Users/Tejas/AppData/Local/Programs/Python/Python39/lib/site-packages/keras_tuner/engine/hypermodel.py?line=115'>116</a>\u001b[0m \u001b[39mdef\u001b[39;00m \u001b[39mfit\u001b[39m(\u001b[39mself\u001b[39m, hp, model, \u001b[39m*\u001b[39margs, \u001b[39m*\u001b[39m\u001b[39m*\u001b[39mkwargs):\n\u001b[0;32m    <a href='file:///c%3A/Users/Tejas/AppData/Local/Programs/Python/Python39/lib/site-packages/keras_tuner/engine/hypermodel.py?line=116'>117</a>\u001b[0m     \u001b[39m\"\"\"Train the model.\u001b[39;00m\n\u001b[0;32m    <a href='file:///c%3A/Users/Tejas/AppData/Local/Programs/Python/Python39/lib/site-packages/keras_tuner/engine/hypermodel.py?line=117'>118</a>\u001b[0m \n\u001b[0;32m    <a href='file:///c%3A/Users/Tejas/AppData/Local/Programs/Python/Python39/lib/site-packages/keras_tuner/engine/hypermodel.py?line=118'>119</a>\u001b[0m \u001b[39m    Args:\u001b[39;00m\n\u001b[1;32m   (...)\u001b[0m\n\u001b[0;32m    <a href='file:///c%3A/Users/Tejas/AppData/Local/Programs/Python/Python39/lib/site-packages/keras_tuner/engine/hypermodel.py?line=137'>138</a>\u001b[0m \u001b[39m        If return a float, it should be the `objective` value.\u001b[39;00m\n\u001b[0;32m    <a href='file:///c%3A/Users/Tejas/AppData/Local/Programs/Python/Python39/lib/site-packages/keras_tuner/engine/hypermodel.py?line=138'>139</a>\u001b[0m \u001b[39m    \"\"\"\u001b[39;00m\n\u001b[1;32m--> <a href='file:///c%3A/Users/Tejas/AppData/Local/Programs/Python/Python39/lib/site-packages/keras_tuner/engine/hypermodel.py?line=139'>140</a>\u001b[0m     \u001b[39mreturn\u001b[39;00m model\u001b[39m.\u001b[39mfit(\u001b[39m*\u001b[39margs, \u001b[39m*\u001b[39m\u001b[39m*\u001b[39mkwargs)\n",
      "File \u001b[1;32m~\\AppData\\Local\\Programs\\Python\\Python39\\lib\\site-packages\\keras\\utils\\traceback_utils.py:65\u001b[0m, in \u001b[0;36mfilter_traceback.<locals>.error_handler\u001b[1;34m(*args, **kwargs)\u001b[0m\n\u001b[0;32m     <a href='file:///c%3A/Users/Tejas/AppData/Local/Programs/Python/Python39/lib/site-packages/keras/utils/traceback_utils.py?line=62'>63</a>\u001b[0m filtered_tb \u001b[39m=\u001b[39m \u001b[39mNone\u001b[39;00m\n\u001b[0;32m     <a href='file:///c%3A/Users/Tejas/AppData/Local/Programs/Python/Python39/lib/site-packages/keras/utils/traceback_utils.py?line=63'>64</a>\u001b[0m \u001b[39mtry\u001b[39;00m:\n\u001b[1;32m---> <a href='file:///c%3A/Users/Tejas/AppData/Local/Programs/Python/Python39/lib/site-packages/keras/utils/traceback_utils.py?line=64'>65</a>\u001b[0m     \u001b[39mreturn\u001b[39;00m fn(\u001b[39m*\u001b[39margs, \u001b[39m*\u001b[39m\u001b[39m*\u001b[39mkwargs)\n\u001b[0;32m     <a href='file:///c%3A/Users/Tejas/AppData/Local/Programs/Python/Python39/lib/site-packages/keras/utils/traceback_utils.py?line=65'>66</a>\u001b[0m \u001b[39mexcept\u001b[39;00m \u001b[39mException\u001b[39;00m \u001b[39mas\u001b[39;00m e:\n\u001b[0;32m     <a href='file:///c%3A/Users/Tejas/AppData/Local/Programs/Python/Python39/lib/site-packages/keras/utils/traceback_utils.py?line=66'>67</a>\u001b[0m     filtered_tb \u001b[39m=\u001b[39m _process_traceback_frames(e\u001b[39m.\u001b[39m__traceback__)\n",
      "File \u001b[1;32m~\\AppData\\Local\\Programs\\Python\\Python39\\lib\\site-packages\\keras\\engine\\training.py:1564\u001b[0m, in \u001b[0;36mModel.fit\u001b[1;34m(self, x, y, batch_size, epochs, verbose, callbacks, validation_split, validation_data, shuffle, class_weight, sample_weight, initial_epoch, steps_per_epoch, validation_steps, validation_batch_size, validation_freq, max_queue_size, workers, use_multiprocessing)\u001b[0m\n\u001b[0;32m   <a href='file:///c%3A/Users/Tejas/AppData/Local/Programs/Python/Python39/lib/site-packages/keras/engine/training.py?line=1555'>1556</a>\u001b[0m \u001b[39mwith\u001b[39;00m tf\u001b[39m.\u001b[39mprofiler\u001b[39m.\u001b[39mexperimental\u001b[39m.\u001b[39mTrace(\n\u001b[0;32m   <a href='file:///c%3A/Users/Tejas/AppData/Local/Programs/Python/Python39/lib/site-packages/keras/engine/training.py?line=1556'>1557</a>\u001b[0m     \u001b[39m\"\u001b[39m\u001b[39mtrain\u001b[39m\u001b[39m\"\u001b[39m,\n\u001b[0;32m   <a href='file:///c%3A/Users/Tejas/AppData/Local/Programs/Python/Python39/lib/site-packages/keras/engine/training.py?line=1557'>1558</a>\u001b[0m     epoch_num\u001b[39m=\u001b[39mepoch,\n\u001b[1;32m   (...)\u001b[0m\n\u001b[0;32m   <a href='file:///c%3A/Users/Tejas/AppData/Local/Programs/Python/Python39/lib/site-packages/keras/engine/training.py?line=1560'>1561</a>\u001b[0m     _r\u001b[39m=\u001b[39m\u001b[39m1\u001b[39m,\n\u001b[0;32m   <a href='file:///c%3A/Users/Tejas/AppData/Local/Programs/Python/Python39/lib/site-packages/keras/engine/training.py?line=1561'>1562</a>\u001b[0m ):\n\u001b[0;32m   <a href='file:///c%3A/Users/Tejas/AppData/Local/Programs/Python/Python39/lib/site-packages/keras/engine/training.py?line=1562'>1563</a>\u001b[0m     callbacks\u001b[39m.\u001b[39mon_train_batch_begin(step)\n\u001b[1;32m-> <a href='file:///c%3A/Users/Tejas/AppData/Local/Programs/Python/Python39/lib/site-packages/keras/engine/training.py?line=1563'>1564</a>\u001b[0m     tmp_logs \u001b[39m=\u001b[39m \u001b[39mself\u001b[39;49m\u001b[39m.\u001b[39;49mtrain_function(iterator)\n\u001b[0;32m   <a href='file:///c%3A/Users/Tejas/AppData/Local/Programs/Python/Python39/lib/site-packages/keras/engine/training.py?line=1564'>1565</a>\u001b[0m     \u001b[39mif\u001b[39;00m data_handler\u001b[39m.\u001b[39mshould_sync:\n\u001b[0;32m   <a href='file:///c%3A/Users/Tejas/AppData/Local/Programs/Python/Python39/lib/site-packages/keras/engine/training.py?line=1565'>1566</a>\u001b[0m         context\u001b[39m.\u001b[39masync_wait()\n",
      "File \u001b[1;32m~\\AppData\\Local\\Programs\\Python\\Python39\\lib\\site-packages\\tensorflow\\python\\util\\traceback_utils.py:150\u001b[0m, in \u001b[0;36mfilter_traceback.<locals>.error_handler\u001b[1;34m(*args, **kwargs)\u001b[0m\n\u001b[0;32m    <a href='file:///c%3A/Users/Tejas/AppData/Local/Programs/Python/Python39/lib/site-packages/tensorflow/python/util/traceback_utils.py?line=147'>148</a>\u001b[0m filtered_tb \u001b[39m=\u001b[39m \u001b[39mNone\u001b[39;00m\n\u001b[0;32m    <a href='file:///c%3A/Users/Tejas/AppData/Local/Programs/Python/Python39/lib/site-packages/tensorflow/python/util/traceback_utils.py?line=148'>149</a>\u001b[0m \u001b[39mtry\u001b[39;00m:\n\u001b[1;32m--> <a href='file:///c%3A/Users/Tejas/AppData/Local/Programs/Python/Python39/lib/site-packages/tensorflow/python/util/traceback_utils.py?line=149'>150</a>\u001b[0m   \u001b[39mreturn\u001b[39;00m fn(\u001b[39m*\u001b[39margs, \u001b[39m*\u001b[39m\u001b[39m*\u001b[39mkwargs)\n\u001b[0;32m    <a href='file:///c%3A/Users/Tejas/AppData/Local/Programs/Python/Python39/lib/site-packages/tensorflow/python/util/traceback_utils.py?line=150'>151</a>\u001b[0m \u001b[39mexcept\u001b[39;00m \u001b[39mException\u001b[39;00m \u001b[39mas\u001b[39;00m e:\n\u001b[0;32m    <a href='file:///c%3A/Users/Tejas/AppData/Local/Programs/Python/Python39/lib/site-packages/tensorflow/python/util/traceback_utils.py?line=151'>152</a>\u001b[0m   filtered_tb \u001b[39m=\u001b[39m _process_traceback_frames(e\u001b[39m.\u001b[39m__traceback__)\n",
      "File \u001b[1;32m~\\AppData\\Local\\Programs\\Python\\Python39\\lib\\site-packages\\tensorflow\\python\\eager\\def_function.py:915\u001b[0m, in \u001b[0;36mFunction.__call__\u001b[1;34m(self, *args, **kwds)\u001b[0m\n\u001b[0;32m    <a href='file:///c%3A/Users/Tejas/AppData/Local/Programs/Python/Python39/lib/site-packages/tensorflow/python/eager/def_function.py?line=911'>912</a>\u001b[0m compiler \u001b[39m=\u001b[39m \u001b[39m\"\u001b[39m\u001b[39mxla\u001b[39m\u001b[39m\"\u001b[39m \u001b[39mif\u001b[39;00m \u001b[39mself\u001b[39m\u001b[39m.\u001b[39m_jit_compile \u001b[39melse\u001b[39;00m \u001b[39m\"\u001b[39m\u001b[39mnonXla\u001b[39m\u001b[39m\"\u001b[39m\n\u001b[0;32m    <a href='file:///c%3A/Users/Tejas/AppData/Local/Programs/Python/Python39/lib/site-packages/tensorflow/python/eager/def_function.py?line=913'>914</a>\u001b[0m \u001b[39mwith\u001b[39;00m OptionalXlaContext(\u001b[39mself\u001b[39m\u001b[39m.\u001b[39m_jit_compile):\n\u001b[1;32m--> <a href='file:///c%3A/Users/Tejas/AppData/Local/Programs/Python/Python39/lib/site-packages/tensorflow/python/eager/def_function.py?line=914'>915</a>\u001b[0m   result \u001b[39m=\u001b[39m \u001b[39mself\u001b[39m\u001b[39m.\u001b[39m_call(\u001b[39m*\u001b[39margs, \u001b[39m*\u001b[39m\u001b[39m*\u001b[39mkwds)\n\u001b[0;32m    <a href='file:///c%3A/Users/Tejas/AppData/Local/Programs/Python/Python39/lib/site-packages/tensorflow/python/eager/def_function.py?line=916'>917</a>\u001b[0m new_tracing_count \u001b[39m=\u001b[39m \u001b[39mself\u001b[39m\u001b[39m.\u001b[39mexperimental_get_tracing_count()\n\u001b[0;32m    <a href='file:///c%3A/Users/Tejas/AppData/Local/Programs/Python/Python39/lib/site-packages/tensorflow/python/eager/def_function.py?line=917'>918</a>\u001b[0m without_tracing \u001b[39m=\u001b[39m (tracing_count \u001b[39m==\u001b[39m new_tracing_count)\n",
      "File \u001b[1;32m~\\AppData\\Local\\Programs\\Python\\Python39\\lib\\site-packages\\tensorflow\\python\\eager\\def_function.py:947\u001b[0m, in \u001b[0;36mFunction._call\u001b[1;34m(self, *args, **kwds)\u001b[0m\n\u001b[0;32m    <a href='file:///c%3A/Users/Tejas/AppData/Local/Programs/Python/Python39/lib/site-packages/tensorflow/python/eager/def_function.py?line=943'>944</a>\u001b[0m   \u001b[39mself\u001b[39m\u001b[39m.\u001b[39m_lock\u001b[39m.\u001b[39mrelease()\n\u001b[0;32m    <a href='file:///c%3A/Users/Tejas/AppData/Local/Programs/Python/Python39/lib/site-packages/tensorflow/python/eager/def_function.py?line=944'>945</a>\u001b[0m   \u001b[39m# In this case we have created variables on the first call, so we run the\u001b[39;00m\n\u001b[0;32m    <a href='file:///c%3A/Users/Tejas/AppData/Local/Programs/Python/Python39/lib/site-packages/tensorflow/python/eager/def_function.py?line=945'>946</a>\u001b[0m   \u001b[39m# defunned version which is guaranteed to never create variables.\u001b[39;00m\n\u001b[1;32m--> <a href='file:///c%3A/Users/Tejas/AppData/Local/Programs/Python/Python39/lib/site-packages/tensorflow/python/eager/def_function.py?line=946'>947</a>\u001b[0m   \u001b[39mreturn\u001b[39;00m \u001b[39mself\u001b[39m\u001b[39m.\u001b[39m_stateless_fn(\u001b[39m*\u001b[39margs, \u001b[39m*\u001b[39m\u001b[39m*\u001b[39mkwds)  \u001b[39m# pylint: disable=not-callable\u001b[39;00m\n\u001b[0;32m    <a href='file:///c%3A/Users/Tejas/AppData/Local/Programs/Python/Python39/lib/site-packages/tensorflow/python/eager/def_function.py?line=947'>948</a>\u001b[0m \u001b[39melif\u001b[39;00m \u001b[39mself\u001b[39m\u001b[39m.\u001b[39m_stateful_fn \u001b[39mis\u001b[39;00m \u001b[39mnot\u001b[39;00m \u001b[39mNone\u001b[39;00m:\n\u001b[0;32m    <a href='file:///c%3A/Users/Tejas/AppData/Local/Programs/Python/Python39/lib/site-packages/tensorflow/python/eager/def_function.py?line=948'>949</a>\u001b[0m   \u001b[39m# Release the lock early so that multiple threads can perform the call\u001b[39;00m\n\u001b[0;32m    <a href='file:///c%3A/Users/Tejas/AppData/Local/Programs/Python/Python39/lib/site-packages/tensorflow/python/eager/def_function.py?line=949'>950</a>\u001b[0m   \u001b[39m# in parallel.\u001b[39;00m\n\u001b[0;32m    <a href='file:///c%3A/Users/Tejas/AppData/Local/Programs/Python/Python39/lib/site-packages/tensorflow/python/eager/def_function.py?line=950'>951</a>\u001b[0m   \u001b[39mself\u001b[39m\u001b[39m.\u001b[39m_lock\u001b[39m.\u001b[39mrelease()\n",
      "File \u001b[1;32m~\\AppData\\Local\\Programs\\Python\\Python39\\lib\\site-packages\\tensorflow\\python\\eager\\function.py:2496\u001b[0m, in \u001b[0;36mFunction.__call__\u001b[1;34m(self, *args, **kwargs)\u001b[0m\n\u001b[0;32m   <a href='file:///c%3A/Users/Tejas/AppData/Local/Programs/Python/Python39/lib/site-packages/tensorflow/python/eager/function.py?line=2492'>2493</a>\u001b[0m \u001b[39mwith\u001b[39;00m \u001b[39mself\u001b[39m\u001b[39m.\u001b[39m_lock:\n\u001b[0;32m   <a href='file:///c%3A/Users/Tejas/AppData/Local/Programs/Python/Python39/lib/site-packages/tensorflow/python/eager/function.py?line=2493'>2494</a>\u001b[0m   (graph_function,\n\u001b[0;32m   <a href='file:///c%3A/Users/Tejas/AppData/Local/Programs/Python/Python39/lib/site-packages/tensorflow/python/eager/function.py?line=2494'>2495</a>\u001b[0m    filtered_flat_args) \u001b[39m=\u001b[39m \u001b[39mself\u001b[39m\u001b[39m.\u001b[39m_maybe_define_function(args, kwargs)\n\u001b[1;32m-> <a href='file:///c%3A/Users/Tejas/AppData/Local/Programs/Python/Python39/lib/site-packages/tensorflow/python/eager/function.py?line=2495'>2496</a>\u001b[0m \u001b[39mreturn\u001b[39;00m graph_function\u001b[39m.\u001b[39;49m_call_flat(\n\u001b[0;32m   <a href='file:///c%3A/Users/Tejas/AppData/Local/Programs/Python/Python39/lib/site-packages/tensorflow/python/eager/function.py?line=2496'>2497</a>\u001b[0m     filtered_flat_args, captured_inputs\u001b[39m=\u001b[39;49mgraph_function\u001b[39m.\u001b[39;49mcaptured_inputs)\n",
      "File \u001b[1;32m~\\AppData\\Local\\Programs\\Python\\Python39\\lib\\site-packages\\tensorflow\\python\\eager\\function.py:1862\u001b[0m, in \u001b[0;36mConcreteFunction._call_flat\u001b[1;34m(self, args, captured_inputs, cancellation_manager)\u001b[0m\n\u001b[0;32m   <a href='file:///c%3A/Users/Tejas/AppData/Local/Programs/Python/Python39/lib/site-packages/tensorflow/python/eager/function.py?line=1857'>1858</a>\u001b[0m possible_gradient_type \u001b[39m=\u001b[39m gradients_util\u001b[39m.\u001b[39mPossibleTapeGradientTypes(args)\n\u001b[0;32m   <a href='file:///c%3A/Users/Tejas/AppData/Local/Programs/Python/Python39/lib/site-packages/tensorflow/python/eager/function.py?line=1858'>1859</a>\u001b[0m \u001b[39mif\u001b[39;00m (possible_gradient_type \u001b[39m==\u001b[39m gradients_util\u001b[39m.\u001b[39mPOSSIBLE_GRADIENT_TYPES_NONE\n\u001b[0;32m   <a href='file:///c%3A/Users/Tejas/AppData/Local/Programs/Python/Python39/lib/site-packages/tensorflow/python/eager/function.py?line=1859'>1860</a>\u001b[0m     \u001b[39mand\u001b[39;00m executing_eagerly):\n\u001b[0;32m   <a href='file:///c%3A/Users/Tejas/AppData/Local/Programs/Python/Python39/lib/site-packages/tensorflow/python/eager/function.py?line=1860'>1861</a>\u001b[0m   \u001b[39m# No tape is watching; skip to running the function.\u001b[39;00m\n\u001b[1;32m-> <a href='file:///c%3A/Users/Tejas/AppData/Local/Programs/Python/Python39/lib/site-packages/tensorflow/python/eager/function.py?line=1861'>1862</a>\u001b[0m   \u001b[39mreturn\u001b[39;00m \u001b[39mself\u001b[39m\u001b[39m.\u001b[39m_build_call_outputs(\u001b[39mself\u001b[39;49m\u001b[39m.\u001b[39;49m_inference_function\u001b[39m.\u001b[39;49mcall(\n\u001b[0;32m   <a href='file:///c%3A/Users/Tejas/AppData/Local/Programs/Python/Python39/lib/site-packages/tensorflow/python/eager/function.py?line=1862'>1863</a>\u001b[0m       ctx, args, cancellation_manager\u001b[39m=\u001b[39;49mcancellation_manager))\n\u001b[0;32m   <a href='file:///c%3A/Users/Tejas/AppData/Local/Programs/Python/Python39/lib/site-packages/tensorflow/python/eager/function.py?line=1863'>1864</a>\u001b[0m forward_backward \u001b[39m=\u001b[39m \u001b[39mself\u001b[39m\u001b[39m.\u001b[39m_select_forward_and_backward_functions(\n\u001b[0;32m   <a href='file:///c%3A/Users/Tejas/AppData/Local/Programs/Python/Python39/lib/site-packages/tensorflow/python/eager/function.py?line=1864'>1865</a>\u001b[0m     args,\n\u001b[0;32m   <a href='file:///c%3A/Users/Tejas/AppData/Local/Programs/Python/Python39/lib/site-packages/tensorflow/python/eager/function.py?line=1865'>1866</a>\u001b[0m     possible_gradient_type,\n\u001b[0;32m   <a href='file:///c%3A/Users/Tejas/AppData/Local/Programs/Python/Python39/lib/site-packages/tensorflow/python/eager/function.py?line=1866'>1867</a>\u001b[0m     executing_eagerly)\n\u001b[0;32m   <a href='file:///c%3A/Users/Tejas/AppData/Local/Programs/Python/Python39/lib/site-packages/tensorflow/python/eager/function.py?line=1867'>1868</a>\u001b[0m forward_function, args_with_tangents \u001b[39m=\u001b[39m forward_backward\u001b[39m.\u001b[39mforward()\n",
      "File \u001b[1;32m~\\AppData\\Local\\Programs\\Python\\Python39\\lib\\site-packages\\tensorflow\\python\\eager\\function.py:499\u001b[0m, in \u001b[0;36m_EagerDefinedFunction.call\u001b[1;34m(self, ctx, args, cancellation_manager)\u001b[0m\n\u001b[0;32m    <a href='file:///c%3A/Users/Tejas/AppData/Local/Programs/Python/Python39/lib/site-packages/tensorflow/python/eager/function.py?line=496'>497</a>\u001b[0m \u001b[39mwith\u001b[39;00m _InterpolateFunctionError(\u001b[39mself\u001b[39m):\n\u001b[0;32m    <a href='file:///c%3A/Users/Tejas/AppData/Local/Programs/Python/Python39/lib/site-packages/tensorflow/python/eager/function.py?line=497'>498</a>\u001b[0m   \u001b[39mif\u001b[39;00m cancellation_manager \u001b[39mis\u001b[39;00m \u001b[39mNone\u001b[39;00m:\n\u001b[1;32m--> <a href='file:///c%3A/Users/Tejas/AppData/Local/Programs/Python/Python39/lib/site-packages/tensorflow/python/eager/function.py?line=498'>499</a>\u001b[0m     outputs \u001b[39m=\u001b[39m execute\u001b[39m.\u001b[39;49mexecute(\n\u001b[0;32m    <a href='file:///c%3A/Users/Tejas/AppData/Local/Programs/Python/Python39/lib/site-packages/tensorflow/python/eager/function.py?line=499'>500</a>\u001b[0m         \u001b[39mstr\u001b[39;49m(\u001b[39mself\u001b[39;49m\u001b[39m.\u001b[39;49msignature\u001b[39m.\u001b[39;49mname),\n\u001b[0;32m    <a href='file:///c%3A/Users/Tejas/AppData/Local/Programs/Python/Python39/lib/site-packages/tensorflow/python/eager/function.py?line=500'>501</a>\u001b[0m         num_outputs\u001b[39m=\u001b[39;49m\u001b[39mself\u001b[39;49m\u001b[39m.\u001b[39;49m_num_outputs,\n\u001b[0;32m    <a href='file:///c%3A/Users/Tejas/AppData/Local/Programs/Python/Python39/lib/site-packages/tensorflow/python/eager/function.py?line=501'>502</a>\u001b[0m         inputs\u001b[39m=\u001b[39;49margs,\n\u001b[0;32m    <a href='file:///c%3A/Users/Tejas/AppData/Local/Programs/Python/Python39/lib/site-packages/tensorflow/python/eager/function.py?line=502'>503</a>\u001b[0m         attrs\u001b[39m=\u001b[39;49mattrs,\n\u001b[0;32m    <a href='file:///c%3A/Users/Tejas/AppData/Local/Programs/Python/Python39/lib/site-packages/tensorflow/python/eager/function.py?line=503'>504</a>\u001b[0m         ctx\u001b[39m=\u001b[39;49mctx)\n\u001b[0;32m    <a href='file:///c%3A/Users/Tejas/AppData/Local/Programs/Python/Python39/lib/site-packages/tensorflow/python/eager/function.py?line=504'>505</a>\u001b[0m   \u001b[39melse\u001b[39;00m:\n\u001b[0;32m    <a href='file:///c%3A/Users/Tejas/AppData/Local/Programs/Python/Python39/lib/site-packages/tensorflow/python/eager/function.py?line=505'>506</a>\u001b[0m     outputs \u001b[39m=\u001b[39m execute\u001b[39m.\u001b[39mexecute_with_cancellation(\n\u001b[0;32m    <a href='file:///c%3A/Users/Tejas/AppData/Local/Programs/Python/Python39/lib/site-packages/tensorflow/python/eager/function.py?line=506'>507</a>\u001b[0m         \u001b[39mstr\u001b[39m(\u001b[39mself\u001b[39m\u001b[39m.\u001b[39msignature\u001b[39m.\u001b[39mname),\n\u001b[0;32m    <a href='file:///c%3A/Users/Tejas/AppData/Local/Programs/Python/Python39/lib/site-packages/tensorflow/python/eager/function.py?line=507'>508</a>\u001b[0m         num_outputs\u001b[39m=\u001b[39m\u001b[39mself\u001b[39m\u001b[39m.\u001b[39m_num_outputs,\n\u001b[1;32m   (...)\u001b[0m\n\u001b[0;32m    <a href='file:///c%3A/Users/Tejas/AppData/Local/Programs/Python/Python39/lib/site-packages/tensorflow/python/eager/function.py?line=510'>511</a>\u001b[0m         ctx\u001b[39m=\u001b[39mctx,\n\u001b[0;32m    <a href='file:///c%3A/Users/Tejas/AppData/Local/Programs/Python/Python39/lib/site-packages/tensorflow/python/eager/function.py?line=511'>512</a>\u001b[0m         cancellation_manager\u001b[39m=\u001b[39mcancellation_manager)\n",
      "File \u001b[1;32m~\\AppData\\Local\\Programs\\Python\\Python39\\lib\\site-packages\\tensorflow\\python\\eager\\execute.py:54\u001b[0m, in \u001b[0;36mquick_execute\u001b[1;34m(op_name, num_outputs, inputs, attrs, ctx, name)\u001b[0m\n\u001b[0;32m     <a href='file:///c%3A/Users/Tejas/AppData/Local/Programs/Python/Python39/lib/site-packages/tensorflow/python/eager/execute.py?line=51'>52</a>\u001b[0m \u001b[39mtry\u001b[39;00m:\n\u001b[0;32m     <a href='file:///c%3A/Users/Tejas/AppData/Local/Programs/Python/Python39/lib/site-packages/tensorflow/python/eager/execute.py?line=52'>53</a>\u001b[0m   ctx\u001b[39m.\u001b[39mensure_initialized()\n\u001b[1;32m---> <a href='file:///c%3A/Users/Tejas/AppData/Local/Programs/Python/Python39/lib/site-packages/tensorflow/python/eager/execute.py?line=53'>54</a>\u001b[0m   tensors \u001b[39m=\u001b[39m pywrap_tfe\u001b[39m.\u001b[39;49mTFE_Py_Execute(ctx\u001b[39m.\u001b[39;49m_handle, device_name, op_name,\n\u001b[0;32m     <a href='file:///c%3A/Users/Tejas/AppData/Local/Programs/Python/Python39/lib/site-packages/tensorflow/python/eager/execute.py?line=54'>55</a>\u001b[0m                                       inputs, attrs, num_outputs)\n\u001b[0;32m     <a href='file:///c%3A/Users/Tejas/AppData/Local/Programs/Python/Python39/lib/site-packages/tensorflow/python/eager/execute.py?line=55'>56</a>\u001b[0m \u001b[39mexcept\u001b[39;00m core\u001b[39m.\u001b[39m_NotOkStatusException \u001b[39mas\u001b[39;00m e:\n\u001b[0;32m     <a href='file:///c%3A/Users/Tejas/AppData/Local/Programs/Python/Python39/lib/site-packages/tensorflow/python/eager/execute.py?line=56'>57</a>\u001b[0m   \u001b[39mif\u001b[39;00m name \u001b[39mis\u001b[39;00m \u001b[39mnot\u001b[39;00m \u001b[39mNone\u001b[39;00m:\n",
      "\u001b[1;31mKeyboardInterrupt\u001b[0m: "
     ]
    }
   ],
   "source": [
    "tboard = tf.keras.callbacks.TensorBoard(log_dir='logs', write_graph=True)\n",
    "stop_early = tf.keras.callbacks.EarlyStopping(monitor='val_loss', patience=5)\n",
    "\n",
    "tuner.search(\n",
    "        x=trainX,\n",
    "        y=trainY,\n",
    "        epochs=100,\n",
    "        batch_size=128,\n",
    "        validation_data=(testX,testY),\n",
    "        callbacks=[tboard, stop_early]\n",
    ")"
   ]
  },
  {
   "cell_type": "code",
   "execution_count": null,
   "metadata": {},
   "outputs": [],
   "source": [
    "best_model = tuner.get_best_models(num_models=1)[0]\n",
    "\n",
    "trainPredict = best_model.predict(trainX)\n",
    "testPredict = best_model.predict(testX)"
   ]
  },
  {
   "cell_type": "code",
   "execution_count": null,
   "metadata": {},
   "outputs": [],
   "source": [
    "trainPredict = scaler.inverse_transform(trainPredict)\n",
    "trainY = scaler.inverse_transform([trainY])\n",
    "testPredict = scaler.inverse_transform(testPredict)\n",
    "testY = scaler.inverse_transform([testY])"
   ]
  },
  {
   "cell_type": "code",
   "execution_count": null,
   "metadata": {},
   "outputs": [],
   "source": [
    "trainScore = np.sqrt(mean_squared_error(trainY[0], trainPredict[:,0]))\n",
    "print('Train Score: %.2f RMSE' % (trainScore))\n",
    "testScore = np.sqrt(mean_squared_error(testY[0], testPredict[:,0]))\n",
    "print('Test Score: %.2f RMSE' % (testScore))"
   ]
  },
  {
   "cell_type": "code",
   "execution_count": null,
   "metadata": {},
   "outputs": [],
   "source": [
    "from tensorflow.keras.models import save_model\n",
    "save_model(best_model,'AQI_LSTM_new.h5')"
   ]
  },
  {
   "cell_type": "code",
   "execution_count": null,
   "metadata": {},
   "outputs": [],
   "source": [
    "best_model.summary()\n"
   ]
  }
 ],
 "metadata": {
  "interpreter": {
   "hash": "1a8883d2051088e83d1b7fb6154e0fdb9516f21b9ef81edae3fa3da60497aae1"
  },
  "kernelspec": {
   "display_name": "Python 3.9.6 64-bit",
   "language": "python",
   "name": "python3"
  },
  "language_info": {
   "codemirror_mode": {
    "name": "ipython",
    "version": 3
   },
   "file_extension": ".py",
   "mimetype": "text/x-python",
   "name": "python",
   "nbconvert_exporter": "python",
   "pygments_lexer": "ipython3",
   "version": "3.9.6"
  },
  "orig_nbformat": 4
 },
 "nbformat": 4,
 "nbformat_minor": 2
}
